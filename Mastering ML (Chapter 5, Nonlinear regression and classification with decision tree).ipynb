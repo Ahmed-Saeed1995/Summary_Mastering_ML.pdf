{
 "cells": [
  {
   "cell_type": "markdown",
   "metadata": {},
   "source": [
    "# Decision tree\n",
    "- Let's create a decision tree using an algorithm called **Iterative Dichotomiser 3 (ID3).**"
   ]
  },
  {
   "cell_type": "code",
   "execution_count": 24,
   "metadata": {},
   "outputs": [
    {
     "data": {
      "text/plain": [
       "Cat    8\n",
       "Dog    6\n",
       "Name: Species, dtype: int64"
      ]
     },
     "execution_count": 24,
     "metadata": {},
     "output_type": "execute_result"
    }
   ],
   "source": [
    "import pandas as pd\n",
    "\n",
    "df = pd.DataFrame({\"Plays fetch\":[\"yes\",\"no\",\"no\",\"no\",\"no\",\"no\",\"no\",\"no\",\"no\",\"yes\",\"yes\",\"no\",\"yes\",\"yes\"],\n",
    "                  \"Is grumpy\":[\"no\",\"yes\",\"yes\",\"yes\",\"no\",\"yes\",\"yes\",\"no\",\"yes\",\"no\",\"no\",\"no\",\"yes\",\"yes\"],\n",
    "                  \"Favourite food\":[\"Bacon\",\"Dog food\",\"Cat food\",\"Bacon\",\"Cat food\",\"Bacon\",\"Cat food\",\"Dog food\",\n",
    "                                    \"Cat food\",\"Dog food\",\"Bacon\",\"Cat food\",\"Cat food\",\"Bacon\"],\n",
    "                  \"Species\":[\"Dog\",\"Dog\",\"Cat\",\"Cat\",\"Cat\",\"Cat\",\"Cat\",\"Dog\",\"Cat\",\"Dog\",\"Dog\",\"Cat\",\"Cat\",\"Dog\"]},)\n",
    "df.head(3)\n",
    "df[\"Favourite food\"].value_counts()\n",
    "df[\"Species\"].value_counts()"
   ]
  },
  {
   "cell_type": "markdown",
   "metadata": {},
   "source": [
    "using measure called **entropy.**\n",
    "\n",
    "<img src= \"images\\Entopy.jpg\"></img>"
   ]
  },
  {
   "cell_type": "code",
   "execution_count": null,
   "metadata": {},
   "outputs": [],
   "source": []
  }
 ],
 "metadata": {
  "kernelspec": {
   "display_name": "Python 3",
   "language": "python",
   "name": "python3"
  },
  "language_info": {
   "codemirror_mode": {
    "name": "ipython",
    "version": 3
   },
   "file_extension": ".py",
   "mimetype": "text/x-python",
   "name": "python",
   "nbconvert_exporter": "python",
   "pygments_lexer": "ipython3",
   "version": "3.7.6"
  }
 },
 "nbformat": 4,
 "nbformat_minor": 4
}
