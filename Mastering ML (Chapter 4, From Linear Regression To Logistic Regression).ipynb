{
 "cells": [
  {
   "cell_type": "markdown",
   "metadata": {},
   "source": [
    "# Logistic Regression"
   ]
  },
  {
   "cell_type": "markdown",
   "metadata": {},
   "source": [
    "## Binary classification to logistic regression\n",
    "- The **normal distribution**, also known as the **Gaussian distribution** or **bell curve**, is a function that describes the probability that an observation will have a value between any two real numbers.\n",
    "-  The **Bernoulli distribution** describes the probability distribution of a random variable that can take the positive case with probability P or the negative case with probability 1-P\n",
    "<img src=\"images\\Logistic equation.jpg\" width =\"200\"></img>\n",
    "<img src=\"images\\logistic function.jpg\" width =\"400\"></img>\n",
    "* For logistic regression, t is equal to a linear combination of explanatory variables, as follows:\n",
    "<img src=\"images\\Logistic equation2.jpg\" width =\"200\"></img>\n",
    "* The **logit function** is the inverse of the logistic function. It links F x( ) back to a linear\n",
    "combination of the explanatory variables:\n",
    "<img src=\"images\\Logistic equation3.jpg\" width =\"200\"></img>"
   ]
  },
  {
   "cell_type": "markdown",
   "metadata": {},
   "source": [
    "## Spam filtering"
   ]
  },
  {
   "cell_type": "code",
   "execution_count": 7,
   "metadata": {},
   "outputs": [
    {
     "name": "stdout",
     "output_type": "stream",
     "text": [
      "Number of spam messages spam    747\n",
      "Name: 0, dtype: int64\n",
      "NUmber of ham messages ham    4825\n",
      "Name: 0, dtype: int64\n",
      "\n",
      "Prediction:ham || message:Dont you have message offer \n",
      "Prediction:spam || message:3 FREE TAROT TEXTS! Find out about your love life now! TRY 3 FOR FREE! Text CHANCE to 85555 16 only! After 3 Free, Msgs £1.50 each \n",
      "Prediction:ham || message:Did u see what I posted on your Facebook? \n",
      "Prediction:ham || message:Of cos can lar i'm not so ba dao ok... 1 pm lor... Y u never ask where we go ah... I said u would ask on fri but he said u will ask today... \n",
      "Prediction:ham || message:Home so we can always chat \n"
     ]
    }
   ],
   "source": [
    "import pandas as pd\n",
    "import numpy as np\n",
    "from sklearn.feature_extraction.text import TfidfVectorizer\n",
    "from sklearn.linear_model import LogisticRegression\n",
    "from sklearn.model_selection import train_test_split, cross_val_score\n",
    "\n",
    "df = pd.read_csv(\"datasets/SMSSpamCollection\", delimiter='\\t', header=None)\n",
    "print(\"Number of spam messages\", df[df[0] == 'spam'][0].value_counts())\n",
    "print(\"NUmber of ham messages\", df[df[0] == 'ham'][0].value_counts())\n",
    "\n",
    "#Split the dataset\n",
    "X_train_raw, X_test_raw, y_train, y_test = train_test_split(df[1], df[0])\n",
    "\n",
    "vectorizer = TfidfVectorizer()\n",
    "X_train = vectorizer.fit_transform(X_train_raw)\n",
    "X_test = vectorizer.transform(X_test_raw)\n",
    "\n",
    "#Initalize Logistic Regression model\n",
    "classifier = LogisticRegression()\n",
    "classifier.fit(X_train, y_train)\n",
    "predictions = classifier.predict(X_test)\n",
    "print()\n",
    "for i, predict in enumerate(predictions[:5]):\n",
    "    print(\"Prediction:%s || message:%s \"%(predict, X_test_raw.iloc[i]))"
   ]
  },
  {
   "cell_type": "markdown",
   "metadata": {},
   "source": [
    "## Binary classification performace metrics\n",
    "- We are only interested in whether the predicted class was correct.\n",
    "- The most common metrics are **accuracy, precision, recall, F1 measure**, and **ROC AUC score.** All of these measures depend on the concepts of **true positives, true negatives**, **false positives**, and **false negatives**. Positive and negative refer to the classes. True and false denote whether the predicted class is the same as the true class.\n",
    "\n",
    "### confusion matrix, or contingency table"
   ]
  },
  {
   "cell_type": "markdown",
   "metadata": {},
   "source": [
    "* A true positive prediction is when the classifier correctly predicts that a message is spam.\n",
    "* A true negative prediction is when the classifier correctly predicts that a message is ham.\n",
    "* A prediction that a ham message is spam is a false positive prediction.\n",
    "* A spam message incorrectly classified as ham is a false negative prediction."
   ]
  },
  {
   "cell_type": "code",
   "execution_count": 3,
   "metadata": {},
   "outputs": [
    {
     "name": "stdout",
     "output_type": "stream",
     "text": [
      "[[4 1]\n",
      " [2 3]]\n"
     ]
    },
    {
     "data": {
      "image/png": "[encoded data removed]",
      "text/plain": [
       "<Figure size 288x288 with 2 Axes>"
      ]
     },
     "metadata": {
      "needs_background": "light"
     },
     "output_type": "display_data"
    }
   ],
   "source": [
    "from sklearn.metrics import confusion_matrix\n",
    "import matplotlib.pyplot as plt\n",
    "\n",
    "y_test = [0,0,0,0,0,1,1,1,1,1]\n",
    "y_pred = [0,1,0,0,0,0,0,1,1,1]\n",
    "\n",
    "confusion_matrix = confusion_matrix(y_test ,y_pred)\n",
    "print(confusion_matrix)\n",
    "plt.matshow(confusion_matrix)\n",
    "plt.title(confusion_matrix)\n",
    "plt.colorbar()\n",
    "plt.ylabel(\"True label\")\n",
    "plt.xlabel(\"Predicted label\")\n",
    "plt.show()"
   ]
  },
  {
   "cell_type": "markdown",
   "metadata": {},
   "source": [
    "### Accuracy\n",
    "- Accuracy measures a fraction of the classifier's predictions that are correct."
   ]
  },
  {
   "cell_type": "code",
   "execution_count": 4,
   "metadata": {},
   "outputs": [
    {
     "name": "stdout",
     "output_type": "stream",
     "text": [
      "Accuracy score : 0.5\n"
     ]
    }
   ],
   "source": [
    "from sklearn.metrics import accuracy_score\n",
    "y_pred, y_true = [0,1,1,0], [1,1,1,1]\n",
    "print(\"Accuracy score :\",accuracy_score(y_true, y_pred))"
   ]
  },
  {
   "cell_type": "markdown",
   "metadata": {},
   "source": [
    "**Calculate the accuracy to the above codes -> spam filtering**"
   ]
  },
  {
   "cell_type": "code",
   "execution_count": 5,
   "metadata": {},
   "outputs": [
    {
     "name": "stdout",
     "output_type": "stream",
     "text": [
      "0.9564513079104948 [0.94856459 0.94976077 0.95574163 0.96172249 0.96646707]\n"
     ]
    }
   ],
   "source": [
    "scores = cross_val_score(classifier, X_train, y_train, cv = 5)\n",
    "print(np.mean(scores), scores)"
   ]
  },
  {
   "cell_type": "markdown",
   "metadata": {},
   "source": [
    "### Precision and recall\n",
    "<span style=\"color:red\">There`s some code error in the book!</span>.\n",
    "- **Precision** is the fraction of messages classified as spam that are actually spam, Sometimes called sensitivity.\n",
    "<img src=\"images\\precision formula.jpg\" width =\"100\"></img>\n",
    "- **Recall** is the fraction of spam messages that were truly classified as spam.\n",
    "<img src=\"images\\recall.jpg\" width =\"100\"></img>\n",
    "\n",
    "**Calculate precision and recall in spam filtering**"
   ]
  },
  {
   "cell_type": "code",
   "execution_count": 15,
   "metadata": {},
   "outputs": [],
   "source": [
    "# percision = cross_val_score(classifier,X_train, X_test, cv=5, scoring='precision')\n",
    "# By sklearn\n",
    "# from sklearn.metrics import precision_score, recall_score\n",
    "# np.mean(precision_score(predictions,y_test))\n",
    "# np.mean(recall_score(predictions,y_test))"
   ]
  },
  {
   "cell_type": "markdown",
   "metadata": {},
   "source": [
    "### f1_score\n",
    "<span style=\"color:red\">There`s some code error in the book!</span>.\n",
    "- The F1 measure is the harmonic mean, or weighted average, of the precision and recall scores.\n",
    "<img src=\"images\\f1_score.jpg\" width =\"100\"></img>\n",
    "- F1 measure's penalty is small."
   ]
  },
  {
   "cell_type": "markdown",
   "metadata": {},
   "source": [
    "### ROC AUC\n",
    "<span style=\"color:red\">There`s some code error in the book!</span>.\n",
    "<img src=\"images\\ROC Curve.jpg\" width =\"100\"></img>"
   ]
  },
  {
   "cell_type": "code",
   "execution_count": 12,
   "metadata": {},
   "outputs": [],
   "source": [
    "y_test = pd.get_dummies(y_test, drop_first=True)"
   ]
  },
  {
   "cell_type": "code",
   "execution_count": 13,
   "metadata": {},
   "outputs": [
    {
     "data": {
      "image/png": "[encoded data removed]",
      "text/plain": [
       "<Figure size 432x288 with 1 Axes>"
      ]
     },
     "metadata": {
      "needs_background": "light"
     },
     "output_type": "display_data"
    }
   ],
   "source": [
    "from sklearn.metrics import roc_curve, auc\n",
    "\n",
    "predictions = classifier.predict_proba(X_test)\n",
    "false_positive_rate, recall, thresholds = roc_curve(y_test, predictions[:,1])\n",
    "roc_auc = auc(false_positive_rate, recall)\n",
    "plt.title(\"Reciver Operating Charachtiristic\")\n",
    "plt.plot(false_positive_rate, recall, 'b', label='AUC = %0.2f'%roc_auc )\n",
    "plt.legend(loc='lower right')\n",
    "plt.plot([0,1],[0,1],'r--')\n",
    "plt.xlim([0.0,1.0])\n",
    "plt.ylim([0.0,1.0])\n",
    "plt.ylabel(\"Recall\")\n",
    "plt.xlabel(\"Fall-Out\")\n",
    "plt.show()"
   ]
  },
  {
   "cell_type": "markdown",
   "metadata": {},
   "source": [
    "## Tuning models with grid search"
   ]
  },
  {
   "cell_type": "markdown",
   "metadata": {},
   "source": [
    "**LogisticRegression( Hyperparameters )**\n",
    "-  Grid search is a common method to select the hyperparameter values that produce the best model.\n",
    "- **embarrassingly parallel!**\n",
    "\n",
    "Let's use scikit-learn's GridSearchCV() function to find better\n",
    "hyperparameter values:"
   ]
  },
  {
   "cell_type": "code",
   "execution_count": 2,
   "metadata": {},
   "outputs": [
    {
     "name": "stderr",
     "output_type": "stream",
     "text": [
      "D:\\Istalled-Program\\Anaconda\\lib\\site-packages\\sklearn\\utils\\deprecation.py:144: FutureWarning: The sklearn.linear_model.logistic module is  deprecated in version 0.22 and will be removed in version 0.24. The corresponding classes / functions should instead be imported from sklearn.linear_model. Anything that cannot be imported from sklearn.linear_model is now part of the private API.\n",
      "  warnings.warn(message, FutureWarning)\n",
      "[Parallel(n_jobs=-1)]: Using backend LokyBackend with 4 concurrent workers.\n"
     ]
    },
    {
     "name": "stdout",
     "output_type": "stream",
     "text": [
      "Fitting 3 folds for each of 1536 candidates, totalling 4608 fits\n"
     ]
    },
    {
     "name": "stderr",
     "output_type": "stream",
     "text": [
      "[Parallel(n_jobs=-1)]: Done  42 tasks      | elapsed:    3.8s\n",
      "[Parallel(n_jobs=-1)]: Done 192 tasks      | elapsed:   11.2s\n",
      "[Parallel(n_jobs=-1)]: Done 442 tasks      | elapsed:   23.7s\n",
      "[Parallel(n_jobs=-1)]: Done 792 tasks      | elapsed:   46.3s\n",
      "[Parallel(n_jobs=-1)]: Done 1242 tasks      | elapsed:  1.5min\n",
      "[Parallel(n_jobs=-1)]: Done 1792 tasks      | elapsed:  2.2min\n",
      "[Parallel(n_jobs=-1)]: Done 2442 tasks      | elapsed:  3.2min\n",
      "[Parallel(n_jobs=-1)]: Done 3192 tasks      | elapsed:  4.3min\n",
      "[Parallel(n_jobs=-1)]: Done 4042 tasks      | elapsed:  5.5min\n",
      "[Parallel(n_jobs=-1)]: Done 4608 out of 4608 | elapsed:  6.9min finished\n"
     ]
    },
    {
     "name": "stdout",
     "output_type": "stream",
     "text": [
      "Best score 0.982\n",
      "Best parameter set :\n",
      "\tclf__C: 10\n",
      "\tclf__penalty: 'l2'\n",
      "\tvect__max_df: 0.5\n",
      "\tvect__max_features: 5000\n",
      "\tvect__ngram_range: (1, 2)\n",
      "\tvect__norm: 'l2'\n",
      "\tvect__stop_words: None\n",
      "\tvect__use_idf: True\n",
      "Accuracy : 0.9899497487437185\n",
      "-----------------------------------------------\n",
      "Precision with pos_lable spam: 0.9943502824858758\n",
      "Precision with pos_lable ham: 0.9893092105263158\n",
      "-----------------------------------------------\n",
      "Recall with pos_lable spam: 0.9312169312169312\n",
      "Recall with pos_lable ham: 0.9991694352159468\n"
     ]
    }
   ],
   "source": [
    "import pandas as pd\n",
    "from sklearn.feature_extraction.text import TfidfVectorizer\n",
    "from sklearn.linear_model.logistic import LogisticRegression\n",
    "from sklearn.model_selection import GridSearchCV\n",
    "from sklearn.pipeline import Pipeline\n",
    "from sklearn.model_selection import train_test_split\n",
    "from sklearn.metrics import precision_score, recall_score, accuracy_score\n",
    "\n",
    "pipeline = Pipeline([('vect', TfidfVectorizer(stop_words='english')), (\"clf\",LogisticRegression() ) ])\n",
    "parameters = {\n",
    "    \"vect__max_df\":(0.25,0.5,0.75),\n",
    "    \"vect__stop_words\":('english',None),\n",
    "    \"vect__max_features\":(2500,5000,10000,None),\n",
    "    \"vect__ngram_range\":((1,1),(1,2)),\n",
    "    \"vect__use_idf\":(True, False),\n",
    "    \"vect__norm\":(\"l1\",\"l2\"),\n",
    "    \"clf__penalty\":(\"l1\",\"l2\"),\n",
    "    \"clf__C\":(0.01,0.1,1,10)}\n",
    "\n",
    "\n",
    "\n",
    "if __name__ == \"__main__\":\n",
    "    grid_search = GridSearchCV(pipeline, parameters, n_jobs=-1, verbose=1, scoring='accuracy', cv= 3)\n",
    "    df = pd.read_csv(\"datasets/SMSSpamCollection\", delimiter='\\t', header=None)\n",
    "    X, y = df[1], df[0]\n",
    "    X_train, X_test, y_train, y_test = train_test_split(X, y)\n",
    "    grid_search.fit(X_train, y_train)\n",
    "    print(\"Best score %0.3f\"%grid_search.best_score_ )\n",
    "    print(\"Best parameter set :\")\n",
    "    best_parameters = grid_search.best_estimator_.get_params()\n",
    "    for param_name in sorted(parameters.keys()):\n",
    "        print(\"\\t%s: %r\"%(param_name, best_parameters[param_name]))\n",
    "    predictions = grid_search.predict(X_test)\n",
    "    print(\"Accuracy :\", accuracy_score(y_test, predictions))\n",
    "    print(\"-----------------------------------------------\")\n",
    "    print(\"Precision with pos_lable spam:\", precision_score(y_test, predictions, pos_label = \"spam\"))\n",
    "    print(\"Precision with pos_lable ham:\", precision_score(y_test, predictions, pos_label = \"ham\"))\n",
    "    print(\"-----------------------------------------------\")\n",
    "    print(\"Recall with pos_lable spam:\", recall_score(y_test, predictions, pos_label = \"spam\"))\n",
    "    print(\"Recall with pos_lable ham:\", recall_score(y_test, predictions, pos_label = \"ham\"))"
   ]
  },
  {
   "cell_type": "markdown",
   "metadata": {},
   "source": [
    "## Multi-Class Classification\n",
    "- scikit-learn uses a strategy called **one-vs.-all**, or **one-vs.-the-rest**, to support multi-class classification."
   ]
  },
  {
   "cell_type": "code",
   "execution_count": 3,
   "metadata": {},
   "outputs": [
    {
     "name": "stdout",
     "output_type": "stream",
     "text": [
      "ham                                                                                                                5571\n",
      "Go until jurong point, crazy.. Available only in bugis n great world la e buffet... Cine there got amore wat...    5571\n",
      "dtype: int64\n"
     ]
    }
   ],
   "source": [
    "import pandas as pd\n",
    "df = pd.read_csv(\"datasets\\SMSSpamCollection.csv\"  , header=0, delimiter = \"\\t\")\n",
    "print(df.count())"
   ]
  },
  {
   "cell_type": "markdown",
   "metadata": {},
   "source": [
    "# This dataset required accepting the competetion on a Kaggle\n",
    "# STOPED Temporary"
   ]
  }
 ],
 "metadata": {
  "kernelspec": {
   "display_name": "Python 3",
   "language": "python",
   "name": "python3"
  },
  "language_info": {
   "codemirror_mode": {
    "name": "ipython",
    "version": 3
   },
   "file_extension": ".py",
   "mimetype": "text/x-python",
   "name": "python",
   "nbconvert_exporter": "python",
   "pygments_lexer": "ipython3",
   "version": "3.7.6"
  }
 },
 "nbformat": 4,
 "nbformat_minor": 4
}
