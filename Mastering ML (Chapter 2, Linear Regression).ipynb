{
 "cells": [
  {
   "cell_type": "markdown",
   "metadata": {},
   "source": [
    "# Chapter 2 Linear Regression\n",
    "**Contents**"
   ]
  },
  {
   "cell_type": "code",
   "execution_count": 1,
   "metadata": {},
   "outputs": [],
   "source": [
    "import pandas as pd\n",
    "import numpy as np\n",
    "import matplotlib.pyplot as plt\n",
    "\n",
    "%matplotlib inline"
   ]
  },
  {
   "cell_type": "code",
   "execution_count": 2,
   "metadata": {},
   "outputs": [
    {
     "data": {
      "text/html": [
       "<div>\n",
       "<style scoped>\n",
       "    .dataframe tbody tr th:only-of-type {\n",
       "        vertical-align: middle;\n",
       "    }\n",
       "\n",
       "    .dataframe tbody tr th {\n",
       "        vertical-align: top;\n",
       "    }\n",
       "\n",
       "    .dataframe thead th {\n",
       "        text-align: right;\n",
       "    }\n",
       "</style>\n",
       "<table border=\"1\" class=\"dataframe\">\n",
       "  <thead>\n",
       "    <tr style=\"text-align: right;\">\n",
       "      <th></th>\n",
       "      <th>Training instance</th>\n",
       "      <th>Diameter (in inches)</th>\n",
       "      <th>Price (in dollars)</th>\n",
       "    </tr>\n",
       "  </thead>\n",
       "  <tbody>\n",
       "    <tr>\n",
       "      <th>0</th>\n",
       "      <td>1</td>\n",
       "      <td>6</td>\n",
       "      <td>7.0</td>\n",
       "    </tr>\n",
       "    <tr>\n",
       "      <th>1</th>\n",
       "      <td>2</td>\n",
       "      <td>8</td>\n",
       "      <td>9.0</td>\n",
       "    </tr>\n",
       "    <tr>\n",
       "      <th>2</th>\n",
       "      <td>3</td>\n",
       "      <td>10</td>\n",
       "      <td>13.0</td>\n",
       "    </tr>\n",
       "    <tr>\n",
       "      <th>3</th>\n",
       "      <td>4</td>\n",
       "      <td>14</td>\n",
       "      <td>17.5</td>\n",
       "    </tr>\n",
       "    <tr>\n",
       "      <th>4</th>\n",
       "      <td>5</td>\n",
       "      <td>18</td>\n",
       "      <td>18.0</td>\n",
       "    </tr>\n",
       "  </tbody>\n",
       "</table>\n",
       "</div>"
      ],
      "text/plain": [
       "   Training instance  Diameter (in inches)  Price (in dollars)\n",
       "0                  1                     6                 7.0\n",
       "1                  2                     8                 9.0\n",
       "2                  3                    10                13.0\n",
       "3                  4                    14                17.5\n",
       "4                  5                    18                18.0"
      ]
     },
     "execution_count": 2,
     "metadata": {},
     "output_type": "execute_result"
    }
   ],
   "source": [
    "training = {\"Training instance\": [1,2,3,4,5],\"Diameter (in inches)\":[6,8,10,14,18], \"Price (in dollars)\":[7,9,13,17.5,18]}\n",
    "df = pd.DataFrame(training, index = None)\n",
    "df"
   ]
  },
  {
   "cell_type": "code",
   "execution_count": 3,
   "metadata": {},
   "outputs": [
    {
     "data": {
      "image/png": "[encoded data removed]",
      "text/plain": [
       "<Figure size 432x288 with 1 Axes>"
      ]
     },
     "metadata": {
      "needs_background": "light"
     },
     "output_type": "display_data"
    }
   ],
   "source": [
    "x = [[6], [8] , [10], [14] ,[18]]\n",
    "y =[[7] ,[9] ,[13] ,[17.5] ,[18]]\n",
    "plt.figure()\n",
    "plt.title(\"Pizza price plotted aganiset diameter\")\n",
    "plt.xlabel(\"Diameter in inches\")\n",
    "plt.ylabel(\"Price in dollar\")\n",
    "plt.plot(x, y ,\"k.\")\n",
    "plt.axis([0, 25, 0, 25])\n",
    "plt.grid(True)\n",
    "plt.show()"
   ]
  },
  {
   "cell_type": "markdown",
   "metadata": {},
   "source": [
    "## Simple linear regression"
   ]
  },
  {
   "cell_type": "code",
   "execution_count": 4,
   "metadata": {},
   "outputs": [],
   "source": [
    "# Simple linear regression with one value of train and one value of prediction\n",
    "# print(x) --> [[6], [8], [10], [14], [18]]\n",
    "# print(y) --> [[7], [9], [13], [17.5], [18]]"
   ]
  },
  {
   "cell_type": "code",
   "execution_count": 5,
   "metadata": {},
   "outputs": [
    {
     "name": "stdout",
     "output_type": "stream",
     "text": [
      "intercept 1.9655\n",
      "coefficient 0.9763\n"
     ]
    },
    {
     "data": {
      "text/plain": [
       "array([13.68])"
      ]
     },
     "execution_count": 5,
     "metadata": {},
     "output_type": "execute_result"
    }
   ],
   "source": [
    "from sklearn.linear_model import LinearRegression\n",
    "reg = LinearRegression()\n",
    "reg.fit(x, y)\n",
    "y_pred = reg.predict([[12]])\n",
    "print(\"intercept\", reg.intercept_[0].round(4))\n",
    "print(\"coefficient\", reg.coef_[0][0].round(4))\n",
    "y_pred.round(2)[0]"
   ]
  },
  {
   "cell_type": "markdown",
   "metadata": {},
   "source": [
    "***y = a + βx***\n",
    "* best fitting model is called ordinary least squares or linear least squares"
   ]
  },
  {
   "cell_type": "markdown",
   "metadata": {},
   "source": [
    "***How can we assess which parameters produced the best-fitting regression line?***\n",
    "- A cost function, also called a loss function, is used to define and measure the error of a model\n",
    "- The differences between the prices predicted by the model and the observed prices of the pizzas in the **training** set are called residuals or training errors\n",
    "- the differences between the predicted and observed values in the test data are called **prediction** errors or test errors.\n"
   ]
  },
  {
   "cell_type": "code",
   "execution_count": 6,
   "metadata": {},
   "outputs": [
    {
     "name": "stdout",
     "output_type": "stream",
     "text": [
      "Residual sum of squares 1.75\n"
     ]
    }
   ],
   "source": [
    "print(\"Residual sum of squares\", np.mean(((y - reg.predict(x))**2)).round(2))"
   ]
  },
  {
   "cell_type": "markdown",
   "metadata": {},
   "source": [
    "## Solving ordinary least squares for simple linear regression manually\n",
    "- We will solve β first. To do so, we will calculate the variance of x and covariance of x and y."
   ]
  },
  {
   "cell_type": "markdown",
   "metadata": {},
   "source": [
    "* Calculate the variance"
   ]
  },
  {
   "cell_type": "code",
   "execution_count": 7,
   "metadata": {},
   "outputs": [
    {
     "name": "stdout",
     "output_type": "stream",
     "text": [
      "x mean:  11.2 variance:  23.2\n"
     ]
    }
   ],
   "source": [
    "# from __future__ import division\n",
    "xbar = (6 + 8 + 10 + 14 + 18) / 5\n",
    "variance = ((6 - xbar)**2 + (8 - xbar)**2 + (10 - xbar)**2 + (14 - xbar)**2 + (18 - xbar)**2) / 4\n",
    "print(\"x mean: \", xbar, \"variance: \", variance)\n",
    "#Mean using numpy\n",
    "mean = np.var([6,8,10,14,18], ddof = 1)"
   ]
  },
  {
   "cell_type": "markdown",
   "metadata": {},
   "source": [
    "* Calculate the covariance and solve coefficient **β** and intercept **a**"
   ]
  },
  {
   "cell_type": "code",
   "execution_count": 8,
   "metadata": {},
   "outputs": [],
   "source": [
    "xbar = (6 + 8 + 10 + 14 + 18) / 5 #x mean\n",
    "ybar = (7.0 + 9.0+ 13.0 + 17.5 + 18.0) / 5 #y mean\n",
    "cov =(( 6 - xbar)*(7.0 - ybar) + (8 - xbar)*(9.0 - ybar) + (10 - xbar)*(13.0 - ybar) + (14 - xbar)*(17.5 - ybar) + \\\n",
    "(18 - xbar)*(18.0 - ybar) )/4 #covariance\n",
    "#covariance using numpy\n",
    "covariance = np.cov([6,8,10,14,18],[7.0,9.0,13.0,17.5,18.0])[0][1] #same as cov\n",
    "β = covariance / variance #Coefficient\n",
    "a = ybar - β * xbar #Intercept"
   ]
  },
  {
   "cell_type": "markdown",
   "metadata": {},
   "source": [
    "***Simple linear regression equation y = a - βx***"
   ]
  },
  {
   "cell_type": "code",
   "execution_count": 9,
   "metadata": {},
   "outputs": [
    {
     "name": "stdout",
     "output_type": "stream",
     "text": [
      "intercept a: 1.9655 Coefficient β: 0.9763 Manually\n",
      "intercept: 1.9655 coefficient:  0.9763 By our model\n"
     ]
    }
   ],
   "source": [
    "print(\"intercept a:\", a.round(4), \"Coefficient β:\", β.round(4), \"Manually\")\n",
    "print(\"intercept:\",reg.intercept_[0].round(4), \"coefficient: \", reg.coef_[0][0].round(4), \"By our model\")"
   ]
  },
  {
   "cell_type": "code",
   "execution_count": 10,
   "metadata": {},
   "outputs": [
    {
     "data": {
      "image/png": "[encoded data removed]",
      "text/plain": [
       "<Figure size 432x288 with 1 Axes>"
      ]
     },
     "metadata": {
      "needs_background": "light"
     },
     "output_type": "display_data"
    }
   ],
   "source": [
    "#the xbar and ybar centroid\n",
    "plt.scatter(xbar, ybar, color ='g')\n",
    "plt.grid(True)"
   ]
  },
  {
   "cell_type": "markdown",
   "metadata": {},
   "source": [
    "## Evaluate the model\n",
    "- Assess: verb 1. to calculate an amount to be paid\n",
    "- R-squared measures how well the observed values of the response variables are predicted by the model"
   ]
  },
  {
   "cell_type": "code",
   "execution_count": 11,
   "metadata": {
    "scrolled": true
   },
   "outputs": [],
   "source": [
    "test ={\"Training instance\": [1,2,3,4,5],\"Diameter (in inches)\":[8, 9, 11, 16, 12],\n",
    "       \"Price (in dollars)\":[11, 8.5, 15, 18, 11]}\n",
    "dftest = pd.DataFrame(test)\n",
    "# dftest"
   ]
  },
  {
   "cell_type": "code",
   "execution_count": 12,
   "metadata": {},
   "outputs": [],
   "source": [
    "predicted_price = pd.DataFrame({\"Pridicted price (in dollars)\": [9.7759, 10.7522, 12.7048, 17.5863, 13.6811]})\n",
    "# predicted_price"
   ]
  },
  {
   "cell_type": "markdown",
   "metadata": {},
   "source": [
    "**Calculate r_squared manually**\n",
    "- **intuition** 'N' thinking of something or knowing something naturally, without it being explained"
   ]
  },
  {
   "cell_type": "code",
   "execution_count": 13,
   "metadata": {},
   "outputs": [
    {
     "name": "stdout",
     "output_type": "stream",
     "text": [
      "An R-squared mannaully is:  0.6620032818661972\n"
     ]
    }
   ],
   "source": [
    "y_mean = (11 + 8.5 + 15 + 18 + 11) / 5\n",
    "y_variance = ((11 - y_mean)**2 + (8.5 - y_mean)**2 + (15 - y_mean)**2 + (18 - y_mean)**2 + (11 - y_mean)**2)\n",
    "y_residuals = ((11 - 9.7759)**2 + (8.5 - 10.7522)**2 + (15 - 12.7048)**2 + (18 - 17.5863)**2 + (11 - 13.6811)**2)\n",
    "r_squared = 1 - (y_residuals / y_variance)\n",
    "print(\"An R-squared mannaully is: \",r_squared)"
   ]
  },
  {
   "cell_type": "code",
   "execution_count": 14,
   "metadata": {},
   "outputs": [
    {
     "name": "stdout",
     "output_type": "stream",
     "text": [
      "Model score (r_squared): 0.66201\n"
     ]
    }
   ],
   "source": [
    "#Calculate r_squared using scikit-learn\n",
    "from sklearn.linear_model import LinearRegression\n",
    "model = LinearRegression()\n",
    "x = [[6],[8],[10],[14],[18]]\n",
    "y =[[7],[9],[13],[17.5],[18]]\n",
    "x_test = [[8],[9],[11],[16],[12]]\n",
    "y_test = [[11],[8.5],[15],[18],[11]]\n",
    "tested_model = model.fit(x, y)\n",
    "print(\"Model score (r_squared):\", tested_model.score(x_test, y_test).round(5))"
   ]
  },
  {
   "cell_type": "markdown",
   "metadata": {},
   "source": [
    "## Multiple linear regression\n",
    "<img src=\"images\\simple to multiple linear regression.jpg\"  width =\"250\"></img>\n",
    "- m is the number of training examples and n is the number of explanatory variables\n",
    "\n",
    "***y = a  + βx1 + βx2 +....+ βxn***"
   ]
  },
  {
   "cell_type": "code",
   "execution_count": 15,
   "metadata": {},
   "outputs": [],
   "source": [
    "#---Training Frame\n",
    "training2 = {\"Training instance\": [1,2,3,4,5],\"Diameter (in inches)\":[6,8,10,14,18], \"Number of toppings\":[2,1,0,2,0],\n",
    "             \"Price (in dollars)\":[7,9,13,17.5,18]}\n",
    "df2 = pd.DataFrame(training2)\n",
    "#---------------------------------------TEST Frame\n",
    "test2 ={\"Training instance\": [1,2,3,4,5],\"Diameter (in inches)\":[8, 9, 11, 16, 12],\"Number of toopings\":[2,0,2,2,0],\n",
    "       \"Price (in dollars)\":[11, 8.5, 15, 18, 11]}\n",
    "df_test2 = pd.DataFrame(test2)"
   ]
  },
  {
   "cell_type": "markdown",
   "metadata": {},
   "source": [
    "***find β which minimize cost function***\n",
    "- β = (X^TX)^-1 X^TY"
   ]
  },
  {
   "cell_type": "code",
   "execution_count": 16,
   "metadata": {},
   "outputs": [
    {
     "name": "stdout",
     "output_type": "stream",
     "text": [
      "by numpy in one code:\n",
      " [[1.1875    ]\n",
      " [1.01041667]\n",
      " [0.39583333]]\n"
     ]
    }
   ],
   "source": [
    "from numpy import dot, transpose\n",
    "from numpy.linalg import inv, lstsq\n",
    "x = [[1,6,2], [1,8,1], [1,10,0], [1,14,2], [1,18,0]]\n",
    "y = [[7],[9],[13],[17.5],[18]]\n",
    "# dot(inv(dot(transpose(x), x)), dot(transpose(x),y))\n",
    "print(\"by numpy in one code:\\n\", lstsq(x,y, rcond=None)[0])"
   ]
  },
  {
   "cell_type": "code",
   "execution_count": 17,
   "metadata": {},
   "outputs": [],
   "source": [
    "#find B in more detailed\n",
    "x_squared = dot(transpose(x), x)\n",
    "inversed_x = inv(x_squared)\n",
    "xy_transpose = dot(transpose(x), y)\n",
    "coef_B = dot(inversed_x , xy_transpose)"
   ]
  },
  {
   "cell_type": "code",
   "execution_count": 18,
   "metadata": {},
   "outputs": [
    {
     "name": "stdout",
     "output_type": "stream",
     "text": [
      "Predicted: 10.06 Target: 11\n",
      "Predicted: 10.28 Target: 8.5\n",
      "Predicted: 13.09 Target: 15\n",
      "Predicted: 18.15 Target: 18\n",
      "Predicted: 13.31 Target: 11\n",
      "R-sauared:  0.77\n"
     ]
    }
   ],
   "source": [
    "from sklearn.linear_model import LinearRegression\n",
    "#---init model\n",
    "m_reg = LinearRegression()\n",
    "x = [[6,2], [8,1], [10,0],[14,2],[18,0]]\n",
    "y = [[7],[9],[13],[17.5],[18]]\n",
    "m_reg.fit(x,y)\n",
    "#------------------------TEST data\n",
    "x_test = [[8,2], [9,0],[11,2],[16,2],[12,0]]\n",
    "y_test = [[11],[8.5],[15],[18],[11]]\n",
    "#---prediction\n",
    "m_reg_prediction =  m_reg.predict(x_test)\n",
    "for i, predicted in enumerate(m_reg_prediction):\n",
    "    print(\"Predicted:\", predicted[0].round(2) , \"Target:\", y_test[i][0])\n",
    "print(\"R-sauared: \",m_reg.score(x_test, y_test).round(3))"
   ]
  },
  {
   "cell_type": "markdown",
   "metadata": {},
   "source": [
    "* multiple linear regression model performs significantly better than the simple linear regression model."
   ]
  },
  {
   "cell_type": "markdown",
   "metadata": {},
   "source": [
    "## Polynomial linear regression\n",
    "***Quadratic Regression: y = a + bx + bx^2***"
   ]
  },
  {
   "cell_type": "code",
   "execution_count": 1,
   "metadata": {},
   "outputs": [
    {
     "data": {
      "image/png": "[encoded data removed]",
      "text/plain": [
       "<Figure size 432x288 with 1 Axes>"
      ]
     },
     "metadata": {
      "needs_background": "light"
     },
     "output_type": "display_data"
    }
   ],
   "source": [
    "import numpy as np\n",
    "import matplotlib.pyplot as plt\n",
    "from sklearn.linear_model import LinearRegression\n",
    "from sklearn.preprocessing import PolynomialFeatures\n",
    "\n",
    "#intialize data\n",
    "x_train = [[6], [8], [10], [14], [18]]\n",
    "y_train = [[7], [9], [13], [17.5], [18]]\n",
    "x_test = [[6], [8], [11], [16]]\n",
    "y_test = [[8], [12], [15], [18]]\n",
    "\n",
    "#Simple linear regression\n",
    "regressor = LinearRegression()\n",
    "regressor.fit(x_train, y_train)\n",
    "xx = np.linspace(0, 26, 100)\n",
    "yy = regressor.predict(xx.reshape(xx.shape[0], 1))\n",
    "plt.plot(xx, yy)\n",
    "\n",
    "#Plynomial regression\n",
    "qudratic_featurizer = PolynomialFeatures(degree = 2)\n",
    "x_train_qudratic = qudratic_featurizer.fit_transform(x_train)\n",
    "x_test_qudratic = qudratic_featurizer.fit_transform(x_test)\n",
    "#---------by LinearRegression\n",
    "regressor_qudratic = LinearRegression()\n",
    "regressor_qudratic.fit(x_train_qudratic, y_train)\n",
    "xx_qudratic = qudratic_featurizer.transform(xx.reshape(xx.shape[0], 1))\n",
    "#---------matplotlib\n",
    "plt.plot(xx, regressor_qudratic.predict(xx_qudratic), c='r', linestyle=\"--\")\n",
    "plt.title(\"Pizza price regressed by diameter\")\n",
    "plt.xlabel(\"Diameter in inches\")\n",
    "plt.ylabel(\"Price in dollars\")\n",
    "plt.axis([0, 25, 0 , 25])\n",
    "plt.grid(True)\n",
    "plt.scatter(x_train, y_train)\n",
    "plt.show()\n",
    "\n",
    "#Model performance by calculate it`s score\n",
    "# print(x_train)\n",
    "# print(x_train_qudratic)\n",
    "# print(x_test)\n",
    "# print(x_test_qudratic)\n",
    "# print(\"Simple linear regression r_squared score: \", regressor.score(x_test, y_test).round(4))\n",
    "# print(\"Ploynomial regression r_squared score: \", regressor_qudratic.score(x_test_qudratic, y_test).round(4))"
   ]
  },
  {
   "cell_type": "markdown",
   "metadata": {},
   "source": [
    "* If polynomial in dgree 9 then it memorize all training data and fails to learn real relationship between size and price this is called **over-fitting**.\n",
    "* the model should induce a general rule to map inputs to outputs, instead it hase memorized the inputs and outputs from training data.\n",
    "    - **induce** verb 1. to persuade someone to do something.\n",
    "* the R_squared is -0.094.\n",
    "<img src=\"images\\ninth degree.jpg\"  width =\"250\"></img>"
   ]
  },
  {
   "cell_type": "markdown",
   "metadata": {},
   "source": [
    "## Regularization\n",
    "- Regularization is a collection of techniques that can be used to prevent over-fitting."
   ]
  },
  {
   "cell_type": "markdown",
   "metadata": {},
   "source": [
    "- scikit-learn provides several regularized linear regression models.\n",
    "    * **Ridge regression**, also known as **Tikhonov regularization**.\n",
    "        -  Ridge regression modifies the residual sum of the squares cost function by adding the L2 norm of the coefficients.\n",
    "        <img src=\"images\\ridge regression.jpg\"  width =\"250\"></img>\n",
    "    * Least Absolute Shrinkage and Selection Operator **(LASSO)**\n",
    "         - LASSO penalizes the coefficients by adding their L1 norm to the cost function.\n",
    "         <img src=\"images\\lasso.jpg\"  width =\"250\"></img>"
   ]
  },
  {
   "cell_type": "markdown",
   "metadata": {},
   "source": [
    "## Appling Linear Regression"
   ]
  },
  {
   "cell_type": "code",
   "execution_count": 20,
   "metadata": {},
   "outputs": [
    {
     "data": {
      "text/html": [
       "<div>\n",
       "<style scoped>\n",
       "    .dataframe tbody tr th:only-of-type {\n",
       "        vertical-align: middle;\n",
       "    }\n",
       "\n",
       "    .dataframe tbody tr th {\n",
       "        vertical-align: top;\n",
       "    }\n",
       "\n",
       "    .dataframe thead th {\n",
       "        text-align: right;\n",
       "    }\n",
       "</style>\n",
       "<table border=\"1\" class=\"dataframe\">\n",
       "  <thead>\n",
       "    <tr style=\"text-align: right;\">\n",
       "      <th></th>\n",
       "      <th>fixed acidity</th>\n",
       "      <th>volatile acidity</th>\n",
       "      <th>citric acid</th>\n",
       "      <th>residual sugar</th>\n",
       "      <th>chlorides</th>\n",
       "      <th>free sulfur dioxide</th>\n",
       "      <th>total sulfur dioxide</th>\n",
       "      <th>density</th>\n",
       "      <th>pH</th>\n",
       "      <th>sulphates</th>\n",
       "      <th>alcohol</th>\n",
       "      <th>quality</th>\n",
       "    </tr>\n",
       "  </thead>\n",
       "  <tbody>\n",
       "    <tr>\n",
       "      <th>count</th>\n",
       "      <td>1599.000000</td>\n",
       "      <td>1599.000000</td>\n",
       "      <td>1599.000000</td>\n",
       "      <td>1599.000000</td>\n",
       "      <td>1599.000000</td>\n",
       "      <td>1599.000000</td>\n",
       "      <td>1599.000000</td>\n",
       "      <td>1599.000000</td>\n",
       "      <td>1599.000000</td>\n",
       "      <td>1599.000000</td>\n",
       "      <td>1599.000000</td>\n",
       "      <td>1599.000000</td>\n",
       "    </tr>\n",
       "    <tr>\n",
       "      <th>mean</th>\n",
       "      <td>8.319637</td>\n",
       "      <td>0.527821</td>\n",
       "      <td>0.270976</td>\n",
       "      <td>2.538806</td>\n",
       "      <td>0.087467</td>\n",
       "      <td>15.874922</td>\n",
       "      <td>46.467792</td>\n",
       "      <td>0.996747</td>\n",
       "      <td>3.311113</td>\n",
       "      <td>0.658149</td>\n",
       "      <td>10.422983</td>\n",
       "      <td>5.636023</td>\n",
       "    </tr>\n",
       "    <tr>\n",
       "      <th>std</th>\n",
       "      <td>1.741096</td>\n",
       "      <td>0.179060</td>\n",
       "      <td>0.194801</td>\n",
       "      <td>1.409928</td>\n",
       "      <td>0.047065</td>\n",
       "      <td>10.460157</td>\n",
       "      <td>32.895324</td>\n",
       "      <td>0.001887</td>\n",
       "      <td>0.154386</td>\n",
       "      <td>0.169507</td>\n",
       "      <td>1.065668</td>\n",
       "      <td>0.807569</td>\n",
       "    </tr>\n",
       "    <tr>\n",
       "      <th>min</th>\n",
       "      <td>4.600000</td>\n",
       "      <td>0.120000</td>\n",
       "      <td>0.000000</td>\n",
       "      <td>0.900000</td>\n",
       "      <td>0.012000</td>\n",
       "      <td>1.000000</td>\n",
       "      <td>6.000000</td>\n",
       "      <td>0.990070</td>\n",
       "      <td>2.740000</td>\n",
       "      <td>0.330000</td>\n",
       "      <td>8.400000</td>\n",
       "      <td>3.000000</td>\n",
       "    </tr>\n",
       "    <tr>\n",
       "      <th>25%</th>\n",
       "      <td>7.100000</td>\n",
       "      <td>0.390000</td>\n",
       "      <td>0.090000</td>\n",
       "      <td>1.900000</td>\n",
       "      <td>0.070000</td>\n",
       "      <td>7.000000</td>\n",
       "      <td>22.000000</td>\n",
       "      <td>0.995600</td>\n",
       "      <td>3.210000</td>\n",
       "      <td>0.550000</td>\n",
       "      <td>9.500000</td>\n",
       "      <td>5.000000</td>\n",
       "    </tr>\n",
       "    <tr>\n",
       "      <th>50%</th>\n",
       "      <td>7.900000</td>\n",
       "      <td>0.520000</td>\n",
       "      <td>0.260000</td>\n",
       "      <td>2.200000</td>\n",
       "      <td>0.079000</td>\n",
       "      <td>14.000000</td>\n",
       "      <td>38.000000</td>\n",
       "      <td>0.996750</td>\n",
       "      <td>3.310000</td>\n",
       "      <td>0.620000</td>\n",
       "      <td>10.200000</td>\n",
       "      <td>6.000000</td>\n",
       "    </tr>\n",
       "    <tr>\n",
       "      <th>75%</th>\n",
       "      <td>9.200000</td>\n",
       "      <td>0.640000</td>\n",
       "      <td>0.420000</td>\n",
       "      <td>2.600000</td>\n",
       "      <td>0.090000</td>\n",
       "      <td>21.000000</td>\n",
       "      <td>62.000000</td>\n",
       "      <td>0.997835</td>\n",
       "      <td>3.400000</td>\n",
       "      <td>0.730000</td>\n",
       "      <td>11.100000</td>\n",
       "      <td>6.000000</td>\n",
       "    </tr>\n",
       "    <tr>\n",
       "      <th>max</th>\n",
       "      <td>15.900000</td>\n",
       "      <td>1.580000</td>\n",
       "      <td>1.000000</td>\n",
       "      <td>15.500000</td>\n",
       "      <td>0.611000</td>\n",
       "      <td>72.000000</td>\n",
       "      <td>289.000000</td>\n",
       "      <td>1.003690</td>\n",
       "      <td>4.010000</td>\n",
       "      <td>2.000000</td>\n",
       "      <td>14.900000</td>\n",
       "      <td>8.000000</td>\n",
       "    </tr>\n",
       "  </tbody>\n",
       "</table>\n",
       "</div>"
      ],
      "text/plain": [
       "       fixed acidity  volatile acidity  citric acid  residual sugar  \\\n",
       "count    1599.000000       1599.000000  1599.000000     1599.000000   \n",
       "mean        8.319637          0.527821     0.270976        2.538806   \n",
       "std         1.741096          0.179060     0.194801        1.409928   \n",
       "min         4.600000          0.120000     0.000000        0.900000   \n",
       "25%         7.100000          0.390000     0.090000        1.900000   \n",
       "50%         7.900000          0.520000     0.260000        2.200000   \n",
       "75%         9.200000          0.640000     0.420000        2.600000   \n",
       "max        15.900000          1.580000     1.000000       15.500000   \n",
       "\n",
       "         chlorides  free sulfur dioxide  total sulfur dioxide      density  \\\n",
       "count  1599.000000          1599.000000           1599.000000  1599.000000   \n",
       "mean      0.087467            15.874922             46.467792     0.996747   \n",
       "std       0.047065            10.460157             32.895324     0.001887   \n",
       "min       0.012000             1.000000              6.000000     0.990070   \n",
       "25%       0.070000             7.000000             22.000000     0.995600   \n",
       "50%       0.079000            14.000000             38.000000     0.996750   \n",
       "75%       0.090000            21.000000             62.000000     0.997835   \n",
       "max       0.611000            72.000000            289.000000     1.003690   \n",
       "\n",
       "                pH    sulphates      alcohol      quality  \n",
       "count  1599.000000  1599.000000  1599.000000  1599.000000  \n",
       "mean      3.311113     0.658149    10.422983     5.636023  \n",
       "std       0.154386     0.169507     1.065668     0.807569  \n",
       "min       2.740000     0.330000     8.400000     3.000000  \n",
       "25%       3.210000     0.550000     9.500000     5.000000  \n",
       "50%       3.310000     0.620000    10.200000     6.000000  \n",
       "75%       3.400000     0.730000    11.100000     6.000000  \n",
       "max       4.010000     2.000000    14.900000     8.000000  "
      ]
     },
     "execution_count": 20,
     "metadata": {},
     "output_type": "execute_result"
    }
   ],
   "source": [
    "import pandas as pd\n",
    "\n",
    "df = pd.read_csv(\"datasets\\winequality-red.csv\", sep = \";\")\n",
    "df.describe()"
   ]
  },
  {
   "cell_type": "code",
   "execution_count": 21,
   "metadata": {},
   "outputs": [
    {
     "data": {
      "image/png": "[encoded data removed]",
      "text/plain": [
       "<Figure size 432x288 with 1 Axes>"
      ]
     },
     "metadata": {
      "needs_background": "light"
     },
     "output_type": "display_data"
    }
   ],
   "source": [
    "import matplotlib.pyplot as plt\n",
    "\n",
    "plt.scatter(df[\"volatile acidity\"],df[\"quality\"])\n",
    "plt.title(\"alcohol aganist quality\")\n",
    "plt.xlabel(\"volatile acidity\")\n",
    "plt.ylabel(\"quality\")\n",
    "plt.show()"
   ]
  },
  {
   "cell_type": "code",
   "execution_count": null,
   "metadata": {},
   "outputs": [],
   "source": []
  },
  {
   "cell_type": "code",
   "execution_count": 22,
   "metadata": {},
   "outputs": [
    {
     "name": "stdout",
     "output_type": "stream",
     "text": [
      "Linear model scores:  0.38008\n",
      "corss val score:  0.29004 [0.13200871 0.31858135 0.34955348 0.369145   0.2809196 ]\n"
     ]
    }
   ],
   "source": [
    "from sklearn.linear_model import LinearRegression\n",
    "import pandas as pd\n",
    "import matplotlib.pyplot as plt\n",
    "from sklearn.model_selection import train_test_split\n",
    "from sklearn.model_selection import cross_val_score\n",
    "\n",
    "df = pd.read_csv(\"datasets\\winequality-red.csv\", sep = \";\")\n",
    "X = df[list(df.columns)[:-1]]\n",
    "# x = df.iloc[:,:-1] the same code as above\n",
    "y = df[\"quality\"]\n",
    "\n",
    "x_train, x_test, y_train, y_test = train_test_split(X,y)\n",
    "model = LinearRegression()\n",
    "model.fit(x_train, y_train)\n",
    "y_prediction = model.predict(x_test)\n",
    "print(\"Linear model scores: \", model.score(x_test, y_test).round(5))\n",
    "\n",
    "#Usinf cross validation to split data\n",
    "score = cross_val_score(model, X, y, cv=5)\n",
    "print(\"corss val score: \",score.mean().round(5), score)"
   ]
  },
  {
   "cell_type": "markdown",
   "metadata": {},
   "source": [
    "## Fitting model using gradient descent\n",
    "- **Batch gradient descent**, which is sometimes called only gradient descent, uses all of the training instances to update the model parameters in each iteration.\n",
    "- **Stochastic Gradient Descent (SGD)**, in contrast, updates the parameters using only a single training instance in each iteration."
   ]
  },
  {
   "cell_type": "code",
   "execution_count": 1,
   "metadata": {},
   "outputs": [
    {
     "name": "stdout",
     "output_type": "stream",
     "text": [
      "cross val r_squared score :  [0.5017475  0.73664154 0.71892329 0.75975155 0.74888258]\n",
      "average cross val score:  0.6931892924863853\n"
     ]
    }
   ],
   "source": [
    "#SGD\n",
    "import numpy as np\n",
    "from sklearn.datasets import load_boston\n",
    "from sklearn.linear_model import SGDRegressor\n",
    "from sklearn.model_selection import cross_val_score\n",
    "from sklearn.preprocessing import StandardScaler\n",
    "from sklearn.model_selection import train_test_split\n",
    "\n",
    "data = load_boston()\n",
    "x_train, x_test, y_train, y_test = train_test_split(data.data, data.target)\n",
    "\n",
    "x_scaler = StandardScaler()\n",
    "# y_scaler = StandardScaler()\n",
    "\n",
    "x_train = x_scaler.fit_transform(x_train)\n",
    "# y_train = y_scaler.fit_transform(y_train)\n",
    "\n",
    "# x_test = x_scaler.transform(x_scaler)\n",
    "# y_test = y_scaler.transform(y_test)\n",
    "\n",
    "regressor = SGDRegressor(loss=\"squared_loss\")\n",
    "score = cross_val_score(regressor, x_train, y_train, cv = 5)\n",
    "print(\"cross val r_squared score : \",score)\n",
    "print(\"average cross val score: \", np.mean(score))\n",
    "# regressor._fit_regressor(x_train, y_train)\n",
    "# print(\"SGD Test regressor score: \",regressor.score(x_test, y_test))"
   ]
  },
  {
   "cell_type": "markdown",
   "metadata": {},
   "source": [
    "# End Chapter"
   ]
  }
 ],
 "metadata": {
  "kernelspec": {
   "display_name": "Python 3",
   "language": "python",
   "name": "python3"
  },
  "language_info": {
   "codemirror_mode": {
    "name": "ipython",
    "version": 3
   },
   "file_extension": ".py",
   "mimetype": "text/x-python",
   "name": "python",
   "nbconvert_exporter": "python",
   "pygments_lexer": "ipython3",
   "version": "3.7.6"
  }
 },
 "nbformat": 4,
 "nbformat_minor": 4
}
